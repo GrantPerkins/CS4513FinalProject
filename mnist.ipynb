{
 "cells": [
  {
   "cell_type": "markdown",
   "id": "9ff98b37",
   "metadata": {},
   "source": [
    "# Grant Perkins CS 4513 Final Project\n",
    "\n",
    "In this project, I developed a distributed machine learning solution with AWS SageMaker.\n",
    "\n",
    "Features:\n",
    " - Distributed computing:\n",
    "   + One virtual computer runs this Jupyter Notebook\n",
    "   + One virtual computer stores dataset\n",
    "   + N virtual computers run the training job\n",
    "   + One virtual computer runs the inference job (small load)\n",
    " - Machine Learning:\n",
    "   + Trains a custom neural network to recognize digits in the MNIST dataset\n",
    "   + Customizable hyperparameters (epochs, batch size, learning rate)\n",
    "   + Inference on whatever image (classification)\n",
    "\n",
    "I started this project on 4/30/2021, for CS 4513."
   ]
  },
  {
   "cell_type": "markdown",
   "id": "dcb5cff6",
   "metadata": {},
   "source": [
    "## Section 1: Data\n",
    "\n",
    "In this section, I download the dataset, and upload it to a computer controlled by AWS S3, a long-term data service."
   ]
  },
  {
   "cell_type": "code",
   "execution_count": 1,
   "id": "60c78f33",
   "metadata": {},
   "outputs": [],
   "source": [
    "N_workers = 16  # must be factor of 8\n",
    "epochs = 100\n",
    "batch_size = 128  # one batch per epoch\n",
    "learning_rate = 0.000125\n",
    "\n",
    "hyperparameters = {\n",
    "    \"epochs\": epochs,\n",
    "    \"batch_size\": batch_size,\n",
    "    \"learning_rate\": learning_rate\n",
    "}"
   ]
  },
  {
   "cell_type": "code",
   "execution_count": 2,
   "id": "6afa4c59",
   "metadata": {},
   "outputs": [],
   "source": [
    "import tensorflow as tf\n",
    "import sagemaker as sage\n",
    "from sagemaker.tensorflow import TensorFlow"
   ]
  },
  {
   "cell_type": "code",
   "execution_count": 3,
   "id": "a52f48c5",
   "metadata": {},
   "outputs": [],
   "source": [
    "# folder within S3 bucket\n",
    "bucket = \"CS4513MNIST\"\n",
    "# temp download location of MNIST dataset\n",
    "mnist_directory = \"/home/ec2-user/.keras/datasets\"\n",
    "sess = sage.Session()\n",
    "role = sage.get_execution_role()"
   ]
  },
  {
   "cell_type": "code",
   "execution_count": 4,
   "id": "e278b5da",
   "metadata": {},
   "outputs": [],
   "source": [
    "for i in range(N_workers):\n",
    "    tf.keras.datasets.mnist.load_data(path='mnist-%d.npz' % i)\n",
    "data_location = sess.upload_data(mnist_directory, key_prefix=bucket)"
   ]
  },
  {
   "cell_type": "markdown",
   "id": "247ad295",
   "metadata": {},
   "source": [
    "## Section 2: Training\n",
    "\n",
    "Now that the data is in the correct place, I can train a neural network for the dataset. I do this on N separate computers. N can be any natural number."
   ]
  },
  {
   "cell_type": "code",
   "execution_count": 6,
   "id": "5a0b6527",
   "metadata": {},
   "outputs": [
    {
     "name": "stdout",
     "output_type": "stream",
     "text": [
      "2021-05-01 03:13:51 Starting - Starting the training job...\n",
      "2021-05-01 03:14:14 Starting - Launching requested ML instancesProfilerReport-1619838831: InProgress\n",
      "........."
     ]
    },
    {
     "ename": "KeyboardInterrupt",
     "evalue": "",
     "output_type": "error",
     "traceback": [
      "\u001B[0;31m---------------------------------------------------------------------------\u001B[0m",
      "\u001B[0;31mKeyboardInterrupt\u001B[0m                         Traceback (most recent call last)",
      "\u001B[0;32m<ipython-input-6-a554b06ff17c>\u001B[0m in \u001B[0;36m<module>\u001B[0;34m\u001B[0m\n\u001B[1;32m     19\u001B[0m )\n\u001B[1;32m     20\u001B[0m \u001B[0;34m\u001B[0m\u001B[0m\n\u001B[0;32m---> 21\u001B[0;31m \u001B[0mestimator\u001B[0m\u001B[0;34m.\u001B[0m\u001B[0mfit\u001B[0m\u001B[0;34m(\u001B[0m\u001B[0mdata_location\u001B[0m\u001B[0;34m)\u001B[0m\u001B[0;34m\u001B[0m\u001B[0;34m\u001B[0m\u001B[0m\n\u001B[0m",
      "\u001B[0;32m~/anaconda3/envs/tensorflow2_p36/lib/python3.6/site-packages/sagemaker/estimator.py\u001B[0m in \u001B[0;36mfit\u001B[0;34m(self, inputs, wait, logs, job_name, experiment_config)\u001B[0m\n\u001B[1;32m    670\u001B[0m         \u001B[0mself\u001B[0m\u001B[0;34m.\u001B[0m\u001B[0mjobs\u001B[0m\u001B[0;34m.\u001B[0m\u001B[0mappend\u001B[0m\u001B[0;34m(\u001B[0m\u001B[0mself\u001B[0m\u001B[0;34m.\u001B[0m\u001B[0mlatest_training_job\u001B[0m\u001B[0;34m)\u001B[0m\u001B[0;34m\u001B[0m\u001B[0;34m\u001B[0m\u001B[0m\n\u001B[1;32m    671\u001B[0m         \u001B[0;32mif\u001B[0m \u001B[0mwait\u001B[0m\u001B[0;34m:\u001B[0m\u001B[0;34m\u001B[0m\u001B[0;34m\u001B[0m\u001B[0m\n\u001B[0;32m--> 672\u001B[0;31m             \u001B[0mself\u001B[0m\u001B[0;34m.\u001B[0m\u001B[0mlatest_training_job\u001B[0m\u001B[0;34m.\u001B[0m\u001B[0mwait\u001B[0m\u001B[0;34m(\u001B[0m\u001B[0mlogs\u001B[0m\u001B[0;34m=\u001B[0m\u001B[0mlogs\u001B[0m\u001B[0;34m)\u001B[0m\u001B[0;34m\u001B[0m\u001B[0;34m\u001B[0m\u001B[0m\n\u001B[0m\u001B[1;32m    673\u001B[0m \u001B[0;34m\u001B[0m\u001B[0m\n\u001B[1;32m    674\u001B[0m     \u001B[0;32mdef\u001B[0m \u001B[0m_compilation_job_name\u001B[0m\u001B[0;34m(\u001B[0m\u001B[0mself\u001B[0m\u001B[0;34m)\u001B[0m\u001B[0;34m:\u001B[0m\u001B[0;34m\u001B[0m\u001B[0;34m\u001B[0m\u001B[0m\n",
      "\u001B[0;32m~/anaconda3/envs/tensorflow2_p36/lib/python3.6/site-packages/sagemaker/estimator.py\u001B[0m in \u001B[0;36mwait\u001B[0;34m(self, logs)\u001B[0m\n\u001B[1;32m   1601\u001B[0m         \u001B[0;31m# If logs are requested, call logs_for_jobs.\u001B[0m\u001B[0;34m\u001B[0m\u001B[0;34m\u001B[0m\u001B[0;34m\u001B[0m\u001B[0m\n\u001B[1;32m   1602\u001B[0m         \u001B[0;32mif\u001B[0m \u001B[0mlogs\u001B[0m \u001B[0;34m!=\u001B[0m \u001B[0;34m\"None\"\u001B[0m\u001B[0;34m:\u001B[0m\u001B[0;34m\u001B[0m\u001B[0;34m\u001B[0m\u001B[0m\n\u001B[0;32m-> 1603\u001B[0;31m             \u001B[0mself\u001B[0m\u001B[0;34m.\u001B[0m\u001B[0msagemaker_session\u001B[0m\u001B[0;34m.\u001B[0m\u001B[0mlogs_for_job\u001B[0m\u001B[0;34m(\u001B[0m\u001B[0mself\u001B[0m\u001B[0;34m.\u001B[0m\u001B[0mjob_name\u001B[0m\u001B[0;34m,\u001B[0m \u001B[0mwait\u001B[0m\u001B[0;34m=\u001B[0m\u001B[0;32mTrue\u001B[0m\u001B[0;34m,\u001B[0m \u001B[0mlog_type\u001B[0m\u001B[0;34m=\u001B[0m\u001B[0mlogs\u001B[0m\u001B[0;34m)\u001B[0m\u001B[0;34m\u001B[0m\u001B[0;34m\u001B[0m\u001B[0m\n\u001B[0m\u001B[1;32m   1604\u001B[0m         \u001B[0;32melse\u001B[0m\u001B[0;34m:\u001B[0m\u001B[0;34m\u001B[0m\u001B[0;34m\u001B[0m\u001B[0m\n\u001B[1;32m   1605\u001B[0m             \u001B[0mself\u001B[0m\u001B[0;34m.\u001B[0m\u001B[0msagemaker_session\u001B[0m\u001B[0;34m.\u001B[0m\u001B[0mwait_for_job\u001B[0m\u001B[0;34m(\u001B[0m\u001B[0mself\u001B[0m\u001B[0;34m.\u001B[0m\u001B[0mjob_name\u001B[0m\u001B[0;34m)\u001B[0m\u001B[0;34m\u001B[0m\u001B[0;34m\u001B[0m\u001B[0m\n",
      "\u001B[0;32m~/anaconda3/envs/tensorflow2_p36/lib/python3.6/site-packages/sagemaker/session.py\u001B[0m in \u001B[0;36mlogs_for_job\u001B[0;34m(self, job_name, wait, poll, log_type)\u001B[0m\n\u001B[1;32m   3609\u001B[0m                 \u001B[0;32mbreak\u001B[0m\u001B[0;34m\u001B[0m\u001B[0;34m\u001B[0m\u001B[0m\n\u001B[1;32m   3610\u001B[0m \u001B[0;34m\u001B[0m\u001B[0m\n\u001B[0;32m-> 3611\u001B[0;31m             \u001B[0mtime\u001B[0m\u001B[0;34m.\u001B[0m\u001B[0msleep\u001B[0m\u001B[0;34m(\u001B[0m\u001B[0mpoll\u001B[0m\u001B[0;34m)\u001B[0m\u001B[0;34m\u001B[0m\u001B[0;34m\u001B[0m\u001B[0m\n\u001B[0m\u001B[1;32m   3612\u001B[0m \u001B[0;34m\u001B[0m\u001B[0m\n\u001B[1;32m   3613\u001B[0m             \u001B[0;32mif\u001B[0m \u001B[0mstate\u001B[0m \u001B[0;34m==\u001B[0m \u001B[0mLogState\u001B[0m\u001B[0;34m.\u001B[0m\u001B[0mJOB_COMPLETE\u001B[0m\u001B[0;34m:\u001B[0m\u001B[0;34m\u001B[0m\u001B[0;34m\u001B[0m\u001B[0m\n",
      "\u001B[0;31mKeyboardInterrupt\u001B[0m: "
     ]
    }
   ],
   "source": [
    "estimator = TensorFlow(\n",
    "    base_job_name='mnist-cs4513',\n",
    "    source_dir='code',\n",
    "    entry_point='mnist.py',\n",
    "    role=role,\n",
    "    py_version='py37',\n",
    "    framework_version='2.4.1',\n",
    "    hyperparameters=hyperparameters,\n",
    "    instance_count=N_workers // 8,\n",
    "    instance_type='ml.p3.16xlarge',\n",
    "    sagemaker_session=sess,\n",
    "    distribution={\n",
    "        'smdistributed': {\n",
    "            'dataparallel': {\n",
    "                'enabled': True\n",
    "            }\n",
    "        }\n",
    "    }\n",
    ")\n",
    "\n",
    "estimator.fit(data_location)"
   ]
  },
  {
   "cell_type": "code",
   "execution_count": null,
   "id": "f78ee9ee",
   "metadata": {},
   "outputs": [],
   "source": []
  }
 ],
 "metadata": {
  "kernelspec": {
   "display_name": "conda_tensorflow2_p36",
   "language": "python",
   "name": "conda_tensorflow2_p36"
  },
  "language_info": {
   "codemirror_mode": {
    "name": "ipython",
    "version": 3
   },
   "file_extension": ".py",
   "mimetype": "text/x-python",
   "name": "python",
   "nbconvert_exporter": "python",
   "pygments_lexer": "ipython3",
   "version": "3.6.13"
  }
 },
 "nbformat": 4,
 "nbformat_minor": 5
}